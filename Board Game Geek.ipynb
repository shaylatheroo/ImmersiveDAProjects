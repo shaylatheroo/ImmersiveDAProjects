{
 "cells": [
  {
   "cell_type": "markdown",
   "metadata": {},
   "source": [
    "# Exercise: Board Game Geek database\n",
    "\n",
    "Download the Board Games SQLite database (https://www.kaggle.com/gabrio/board-games-dataset) from Kaggle. Then in Jupyter Notebook, read in the data for each table. Use code to show the number of rows and columns for each table in the database. Upload the notebook with this information to your Github profile and submit the URL."
   ]
  },
  {
   "cell_type": "markdown",
   "metadata": {},
   "source": [
    "When I downloaded the database from Kaggle, it came as 'database.sqlite' so I'll be using that same name throughout."
   ]
  },
  {
   "cell_type": "code",
   "execution_count": 1,
   "metadata": {},
   "outputs": [],
   "source": [
    "import sqlalchemy as db\n",
    "from sqlalchemy import create_engine\n",
    "import pandas as pd\n",
    "engine = db.create_engine('sqlite:///test.sqlite')\n",
    "connection = engine.connect()\n",
    "import sqlite3\n",
    "conn = sqlite3.connect('database.sqlite')"
   ]
  },
  {
   "cell_type": "code",
   "execution_count": 2,
   "metadata": {},
   "outputs": [
    {
     "name": "stdout",
     "output_type": "stream",
     "text": [
      "0                  BoardGames\n",
      "1           bgg.ldaOut.topics\n",
      "2        bgg.ldaOut.top.terms\n",
      "3    bgg.ldaOut.top.documents\n",
      "4                  bgg.topics\n",
      "Name: name, dtype: object\n"
     ]
    }
   ],
   "source": [
    "df_tables = pd.read_sql_query(\"SELECT name FROM sqlite_master WHERE type='table';\", conn)\n",
    "print(df_tables['name'])"
   ]
  },
  {
   "cell_type": "code",
   "execution_count": 7,
   "metadata": {},
   "outputs": [
    {
     "name": "stdout",
     "output_type": "stream",
     "text": [
      "The table BoardGameshas the following rows and columns:\n",
      "(90400, 81)\n",
      "The table bgg.ldaOut.topicshas the following rows and columns:\n",
      "(29229, 2)\n",
      "The table bgg.ldaOut.top.termshas the following rows and columns:\n",
      "(250, 4)\n",
      "The table bgg.ldaOut.top.documentshas the following rows and columns:\n",
      "(288, 4)\n",
      "The table bgg.topicshas the following rows and columns:\n",
      "(29313, 74)\n"
     ]
    }
   ],
   "source": [
    "for current_table in df_tables['name']:\n",
    "    query = 'select * from [' + current_table + '];'\n",
    "    df = pd.read_sql_query(query, conn)\n",
    "    print(\"The table \" + current_table + \" has the following rows and columns:\")\n",
    "    print(df.shape)"
   ]
  }
 ],
 "metadata": {
  "kernelspec": {
   "display_name": "Python 3",
   "language": "python",
   "name": "python3"
  },
  "language_info": {
   "codemirror_mode": {
    "name": "ipython",
    "version": 3
   },
   "file_extension": ".py",
   "mimetype": "text/x-python",
   "name": "python",
   "nbconvert_exporter": "python",
   "pygments_lexer": "ipython3",
   "version": "3.7.3"
  }
 },
 "nbformat": 4,
 "nbformat_minor": 2
}
