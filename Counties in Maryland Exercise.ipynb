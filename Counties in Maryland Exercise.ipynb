{
 "cells": [
  {
   "cell_type": "markdown",
   "metadata": {},
   "source": [
    "# Counties in Maryland\n",
    "\n",
    "From Wikipedia, use web scraping to gather the information from the table of the list of counties in Maryland https://en.wikipedia.org/wiki/List_of_counties_in_Maryland#List_of_counties\n",
    "\n",
    "The information to include in your final dataframe is:\n",
    "\n",
    "County Name<br>\n",
    "FIPS Code<br>\n",
    "County Seat<br>\n",
    "Established (year)<br>\n",
    "Origin<br>\n",
    "Etymology<br>\n",
    "Population<br>\n",
    "Area<br>\n",
    "\n",
    "Upload your completed Jupyter notebook to Github and submit the URL for this assignment."
   ]
  },
  {
   "cell_type": "code",
   "execution_count": 26,
   "metadata": {},
   "outputs": [
    {
     "data": {
      "text/plain": [
       "200"
      ]
     },
     "execution_count": 26,
     "metadata": {},
     "output_type": "execute_result"
    }
   ],
   "source": [
    "import requests\n",
    "URL = \"https://en.wikipedia.org/wiki/List_of_counties_in_Maryland\"\n",
    "page = requests.get(URL)\n",
    "type(page)\n",
    "page.status_code"
   ]
  },
  {
   "cell_type": "code",
   "execution_count": 27,
   "metadata": {},
   "outputs": [],
   "source": [
    "from bs4 import BeautifulSoup\n",
    "\n",
    "HTMLstr = page.text\n",
    "\n",
    "soup = BeautifulSoup(HTMLstr, \"html.parser\")"
   ]
  },
  {
   "cell_type": "code",
   "execution_count": 28,
   "metadata": {},
   "outputs": [],
   "source": [
    "right_table=soup.find('table', class_='wikitable sortable')"
   ]
  },
  {
   "cell_type": "markdown",
   "metadata": {},
   "source": [
    "So, all we want is...<br>\n",
    "1. County Name<br>\n",
    "2. FIPS Code<br>\n",
    "3. County Seat<br>\n",
    "4. Established (year)<br>\n",
    "5. Origin<br>\n",
    "6. Etymology<br>\n",
    "7. Population<br>\n",
    "8. Area<br>\n",
    "\n",
    "And the table has data for...<br>\n",
    "1. County<br>\n",
    "2. FIPS Code<br>\n",
    "3. County Seat<br>\n",
    "4. Est (year)<br>\n",
    "5. Origin<br>\n",
    "6. Etymology<br>\n",
    "7. Flag<br>\n",
    "8. Seal<br>\n",
    "9. Population<br>\n",
    "10. Area<br>\n",
    "11. Map<br>\n",
    "\n",
    "So we're going to need to skip the columns for a few items as well as stop early. We only want columns 1-6 & 9-10 in the final dataframe."
   ]
  },
  {
   "cell_type": "code",
   "execution_count": 29,
   "metadata": {},
   "outputs": [],
   "source": [
    "#set empty lists to hold data of each column\n",
    "A=[] #th Name\n",
    "B=[] #tr[0] FIPS\n",
    "C=[] #tr[1] Seat\n",
    "D=[] #tr[2] Est\n",
    "E=[] #tr[3] Origin\n",
    "F=[] #tr[4] Etymology\n",
    "G=[] #tr[7] Pop\n",
    "H=[] #tr[8] Area\n",
    "\n",
    "#find all <tr> tags in the table and go through each one (row)\n",
    "# tr table row tag\n",
    "for row in right_table.findAll(\"tr\"):\n",
    "    \n",
    "    #get at <th> tags, as the names are stored in these before the data, which is in <td> tags\n",
    "    heads = row.findAll('th')\n",
    "    A.append(heads[0].find(text=True)) #gets into in County Name column and adds to list A\n",
    "    \n",
    "    #get all the <td> tags for each <tr> tag\n",
    "    cells = row.findAll('td')\n",
    "    \n",
    "    #we should end up with 10 td tags, though we will not be using all of them\n",
    "    if len(cells)==10: \n",
    "        B.append(cells[0].find(text=True)) # gets info from FIPS column and adds it to list B\n",
    "        C.append(cells[1].find(text=True)) # gets info from Seat column; add it to list C\n",
    "        D.append(cells[2].find(text=True)) # gets info from Est column and adds it to list D\n",
    "        E.append(cells[3].find(text=True)) # gets info from Origin column and adds it to list E\n",
    "        F.append(cells[4].find(text=True)) # gets info from Etymology column and adds it to list F\n",
    "        G.append(cells[7].find(text=True)) # gets info from Population column and adds it to list G\n",
    "        H.append(cells[8].find(text=True)) # gets info from Area column and adds it to list H"
   ]
  },
  {
   "cell_type": "markdown",
   "metadata": {},
   "source": [
    "At this point, I realized that this also pulled in the column header for the county name. The easiest way to simply assign the dataframe column for this to values 1:end of the list rather than trying to have the data initially scrap without this data. It seems that the page itself does separate the body of the table from the header using thead and tbody, but when I look at the table pulled in through right_table, it shows the entire table within a tbody tag, making an attempt to fix the initial scrape difficult."
   ]
  },
  {
   "cell_type": "code",
   "execution_count": 31,
   "metadata": {},
   "outputs": [
    {
     "data": {
      "text/plain": [
       "['County',\n",
       " 'Allegany County',\n",
       " 'Anne Arundel County',\n",
       " 'Baltimore County',\n",
       " 'Baltimore City',\n",
       " 'Calvert County',\n",
       " 'Caroline County',\n",
       " 'Carroll County',\n",
       " 'Cecil County',\n",
       " 'Charles County',\n",
       " 'Dorchester County',\n",
       " 'Frederick County',\n",
       " 'Garrett County',\n",
       " 'Harford County',\n",
       " 'Howard County',\n",
       " 'Kent County',\n",
       " 'Montgomery County',\n",
       " \"Prince George's County\",\n",
       " \"Queen Anne's County\",\n",
       " \"Saint Mary's County\",\n",
       " 'Somerset County',\n",
       " 'Talbot County',\n",
       " 'Washington County',\n",
       " 'Wicomico County',\n",
       " 'Worcester County']"
      ]
     },
     "execution_count": 31,
     "metadata": {},
     "output_type": "execute_result"
    }
   ],
   "source": [
    "A"
   ]
  },
  {
   "cell_type": "code",
   "execution_count": 33,
   "metadata": {},
   "outputs": [
    {
     "data": {
      "text/html": [
       "<div>\n",
       "<style scoped>\n",
       "    .dataframe tbody tr th:only-of-type {\n",
       "        vertical-align: middle;\n",
       "    }\n",
       "\n",
       "    .dataframe tbody tr th {\n",
       "        vertical-align: top;\n",
       "    }\n",
       "\n",
       "    .dataframe thead th {\n",
       "        text-align: right;\n",
       "    }\n",
       "</style>\n",
       "<table border=\"1\" class=\"dataframe\">\n",
       "  <thead>\n",
       "    <tr style=\"text-align: right;\">\n",
       "      <th></th>\n",
       "      <th>County</th>\n",
       "      <th>FIPS Code</th>\n",
       "      <th>County Seat</th>\n",
       "      <th>Established Year</th>\n",
       "      <th>Origin</th>\n",
       "      <th>Etymology</th>\n",
       "      <th>Population</th>\n",
       "      <th>Area</th>\n",
       "    </tr>\n",
       "  </thead>\n",
       "  <tbody>\n",
       "    <tr>\n",
       "      <th>0</th>\n",
       "      <td>Allegany County</td>\n",
       "      <td>001</td>\n",
       "      <td>Cumberland</td>\n",
       "      <td>1789</td>\n",
       "      <td>Formed from part of Washington County.</td>\n",
       "      <td>From the Lenape Indian word</td>\n",
       "      <td>74,012</td>\n",
       "      <td>430</td>\n",
       "    </tr>\n",
       "    <tr>\n",
       "      <th>1</th>\n",
       "      <td>Anne Arundel County</td>\n",
       "      <td>003</td>\n",
       "      <td>Annapolis</td>\n",
       "      <td>1650</td>\n",
       "      <td>Formed from part of St. Mary's County.</td>\n",
       "      <td>Anne Arundell</td>\n",
       "      <td>550,488</td>\n",
       "      <td>588</td>\n",
       "    </tr>\n",
       "    <tr>\n",
       "      <th>2</th>\n",
       "      <td>Baltimore County</td>\n",
       "      <td>005</td>\n",
       "      <td>Towson</td>\n",
       "      <td>1659</td>\n",
       "      <td>Formed from unorganized territory</td>\n",
       "      <td>Cecil Calvert, 2nd Baron Baltimore</td>\n",
       "      <td>817,455</td>\n",
       "      <td>682</td>\n",
       "    </tr>\n",
       "    <tr>\n",
       "      <th>3</th>\n",
       "      <td>Baltimore City</td>\n",
       "      <td>510</td>\n",
       "      <td>Baltimore City</td>\n",
       "      <td>1851</td>\n",
       "      <td>Founded in 1729. Detached in 1851 from Baltimo...</td>\n",
       "      <td>Cecil Calvert, 2nd Baron Baltimore</td>\n",
       "      <td>621,342</td>\n",
       "      <td>92</td>\n",
       "    </tr>\n",
       "    <tr>\n",
       "      <th>4</th>\n",
       "      <td>Calvert County</td>\n",
       "      <td>009</td>\n",
       "      <td>Prince Frederick</td>\n",
       "      <td>1654</td>\n",
       "      <td>Formed as Patuxent County from unorganized ter...</td>\n",
       "      <td>The</td>\n",
       "      <td>89,628</td>\n",
       "      <td>345</td>\n",
       "    </tr>\n",
       "  </tbody>\n",
       "</table>\n",
       "</div>"
      ],
      "text/plain": [
       "                County FIPS Code       County Seat Established Year  \\\n",
       "0      Allegany County       001        Cumberland             1789   \n",
       "1  Anne Arundel County       003         Annapolis             1650   \n",
       "2     Baltimore County       005            Towson             1659   \n",
       "3       Baltimore City       510    Baltimore City             1851   \n",
       "4       Calvert County       009  Prince Frederick             1654   \n",
       "\n",
       "                                              Origin  \\\n",
       "0             Formed from part of Washington County.   \n",
       "1             Formed from part of St. Mary's County.   \n",
       "2                  Formed from unorganized territory   \n",
       "3  Founded in 1729. Detached in 1851 from Baltimo...   \n",
       "4  Formed as Patuxent County from unorganized ter...   \n",
       "\n",
       "                            Etymology Population Area  \n",
       "0        From the Lenape Indian word      74,012  430  \n",
       "1                       Anne Arundell    550,488  588  \n",
       "2  Cecil Calvert, 2nd Baron Baltimore    817,455  682  \n",
       "3  Cecil Calvert, 2nd Baron Baltimore    621,342   92  \n",
       "4                                The      89,628  345  "
      ]
     },
     "execution_count": 33,
     "metadata": {},
     "output_type": "execute_result"
    }
   ],
   "source": [
    "#import pandas to convert list to data frame\n",
    "import pandas as pd\n",
    "\n",
    "df=pd.DataFrame(A[1:], columns=['County']) #turn list A into dataframe first\n",
    "\n",
    "#add other lists as new columns in my new dataframe\n",
    "df['FIPS Code'] = B\n",
    "df['County Seat'] = C\n",
    "df['Established Year'] = D\n",
    "df['Origin'] = E\n",
    "df['Etymology'] = F\n",
    "df['Population'] = G\n",
    "df['Area'] = H\n",
    "\n",
    "#show first 5 rows of created dataframe\n",
    "df.head()"
   ]
  },
  {
   "cell_type": "code",
   "execution_count": null,
   "metadata": {},
   "outputs": [],
   "source": []
  }
 ],
 "metadata": {
  "kernelspec": {
   "display_name": "Python 3",
   "language": "python",
   "name": "python3"
  },
  "language_info": {
   "codemirror_mode": {
    "name": "ipython",
    "version": 3
   },
   "file_extension": ".py",
   "mimetype": "text/x-python",
   "name": "python",
   "nbconvert_exporter": "python",
   "pygments_lexer": "ipython3",
   "version": "3.7.3"
  }
 },
 "nbformat": 4,
 "nbformat_minor": 2
}
